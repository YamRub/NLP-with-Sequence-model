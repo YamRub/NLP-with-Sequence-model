{
  "nbformat": 4,
  "nbformat_minor": 0,
  "metadata": {
    "colab": {
      "provenance": [],
      "authorship_tag": "ABX9TyN7af1FINCttkhJ56S/XRaH",
      "include_colab_link": true
    },
    "kernelspec": {
      "name": "python3",
      "display_name": "Python 3"
    },
    "language_info": {
      "name": "python"
    }
  },
  "cells": [
    {
      "cell_type": "markdown",
      "metadata": {
        "id": "view-in-github",
        "colab_type": "text"
      },
      "source": [
        "<a href=\"https://colab.research.google.com/github/YamRub/NLP-with-Sequence-model/blob/main/Assignment2.ipynb\" target=\"_parent\"><img src=\"https://colab.research.google.com/assets/colab-badge.svg\" alt=\"Open In Colab\"/></a>"
      ]
    },
    {
      "cell_type": "code",
      "execution_count": 20,
      "metadata": {
        "id": "zFxNET5pG62-"
      },
      "outputs": [],
      "source": [
        "import pandas as pd\n",
        "import numpy as np\n",
        "import re\n",
        "import string\n",
        "from nltk.corpus import stopwords\n",
        "from nltk.stem import PorterStemmer\n",
        "from sklearn.feature_extraction.text import CountVectorizer\n",
        "from sklearn.decomposition import LatentDirichletAllocation\n"
      ]
    },
    {
      "cell_type": "code",
      "source": [
        "df = pd.read_excel(\"/content/sample_data/netflix_reviews_NLP Sample Data.xlsx\")"
      ],
      "metadata": {
        "id": "i8JktKyCHCnt"
      },
      "execution_count": 5,
      "outputs": []
    },
    {
      "cell_type": "code",
      "source": [
        "df1=df.copy(deep=True)"
      ],
      "metadata": {
        "id": "tQ_fcjQKHFhY"
      },
      "execution_count": 6,
      "outputs": []
    },
    {
      "cell_type": "code",
      "source": [
        "# Preprocess the data\n",
        "def preprocess_text(text):\n",
        "    stemmer = PorterStemmer()\n",
        "    stop_words = set(stopwords.words('english'))\n",
        "    text = re.sub(f\"[{re.escape(string.punctuation)}]\", \"\", text)\n",
        "    text = text.lower()\n",
        "    text = \" \".join([stemmer.stem(word) for word in text.split() if word not in stop_words])\n",
        "    return text"
      ],
      "metadata": {
        "id": "yc8dVi3rHuV8"
      },
      "execution_count": 7,
      "outputs": []
    },
    {
      "cell_type": "code",
      "source": [
        "df1['content'] = df1['content'].astype(str)"
      ],
      "metadata": {
        "id": "SRES6pWJIbga"
      },
      "execution_count": 12,
      "outputs": []
    },
    {
      "cell_type": "code",
      "source": [
        "import nltk\n",
        "nltk.download('stopwords')"
      ],
      "metadata": {
        "colab": {
          "base_uri": "https://localhost:8080/"
        },
        "id": "zw5BB5bCIPAf",
        "outputId": "21984f7a-7ea6-432b-cb2e-3c7d742e14ea"
      },
      "execution_count": 9,
      "outputs": [
        {
          "output_type": "stream",
          "name": "stderr",
          "text": [
            "[nltk_data] Downloading package stopwords to /root/nltk_data...\n",
            "[nltk_data]   Unzipping corpora/stopwords.zip.\n"
          ]
        },
        {
          "output_type": "execute_result",
          "data": {
            "text/plain": [
              "True"
            ]
          },
          "metadata": {},
          "execution_count": 9
        }
      ]
    },
    {
      "cell_type": "code",
      "source": [
        "# Apply preprocessing\n",
        "df1['cleaned_content'] = df1['content'].apply(preprocess_text)"
      ],
      "metadata": {
        "id": "6CxxOYo1HuZR"
      },
      "execution_count": 13,
      "outputs": []
    },
    {
      "cell_type": "code",
      "source": [
        "# Display the first few rows after cleaning\n",
        "print(df1.head())"
      ],
      "metadata": {
        "colab": {
          "base_uri": "https://localhost:8080/"
        },
        "id": "7t3SJSAEHucz",
        "outputId": "8fb67587-cd95-47ee-8a67-422582bfdebb"
      },
      "execution_count": 14,
      "outputs": [
        {
          "output_type": "stream",
          "name": "stdout",
          "text": [
            "                               reviewId         userName  \\\n",
            "0  c01a0242-e5e7-4e8a-a948-3f0b3ba89f20    Chris Paredes   \n",
            "1  3c1c9fab-65e9-4f89-a1b6-9c45f27addb1  ijustwannabefab   \n",
            "2  27fdf06b-24e8-4a72-9092-c88518e2ceb2       Darah Lazo   \n",
            "3  2e8efd65-9b51-4ce4-ace0-411215764a93    jeremy porter   \n",
            "4  5918b74d-38d0-4e9a-ac5e-da2738351352   Jacob Overcash   \n",
            "\n",
            "                                             content  score  thumbsUpCount  \\\n",
            "0  Where it's me on the plane. It's good. You can...      5              0   \n",
            "1  I have an account for 5 users that I share wit...      1              1   \n",
            "2            Can never go a day without Netflix ðŸ˜Ž      5              0   \n",
            "3  And another streaming service that I'm not gon...      1              1   \n",
            "4   Cannot cast if you have ad level plan. Worthless      1              0   \n",
            "\n",
            "     reviewCreatedVersion                  at              appVersion  \\\n",
            "0  8.113.3 build 31 50678 2024-05-21 22:41:10  8.113.3 build 31 50678   \n",
            "1  8.114.0 build 19 50680 2024-05-21 22:25:36  8.114.0 build 19 50680   \n",
            "2  8.114.0 build 19 50680 2024-05-21 22:25:29  8.114.0 build 19 50680   \n",
            "3  8.113.3 build 31 50678 2024-05-21 22:25:17  8.113.3 build 31 50678   \n",
            "4  8.114.0 build 19 50680 2024-05-21 22:10:44  8.114.0 build 19 50680   \n",
            "\n",
            "                                     cleaned_content  \n",
            "0  plane good watch movit realli great love im go...  \n",
            "1  account 5 user share dad alway use playstat da...  \n",
            "2                  never go day without netflix ðÿ˜ž  \n",
            "3  anoth stream servic im gonna pay anymor want p...  \n",
            "4                cannot cast ad level plan worthless  \n"
          ]
        }
      ]
    },
    {
      "cell_type": "code",
      "source": [
        "df1.columns"
      ],
      "metadata": {
        "colab": {
          "base_uri": "https://localhost:8080/"
        },
        "id": "dC5as3kII2F3",
        "outputId": "f7f5d370-3361-4f92-ce1d-688278c93a52"
      },
      "execution_count": 15,
      "outputs": [
        {
          "output_type": "execute_result",
          "data": {
            "text/plain": [
              "Index(['reviewId', 'userName', 'content', 'score', 'thumbsUpCount',\n",
              "       'reviewCreatedVersion', 'at', 'appVersion', 'cleaned_content'],\n",
              "      dtype='object')"
            ]
          },
          "metadata": {},
          "execution_count": 15
        }
      ]
    },
    {
      "cell_type": "markdown",
      "source": [
        "implement LDA for topic modeling"
      ],
      "metadata": {
        "id": "fo0tqVpeIpkt"
      }
    },
    {
      "cell_type": "code",
      "source": [
        "df1 = df1.drop(df1.columns[[0, 1,2,3, 4, 5, 6, 7]], axis=1)"
      ],
      "metadata": {
        "id": "JCvVWt-0Itrg"
      },
      "execution_count": 16,
      "outputs": []
    },
    {
      "cell_type": "code",
      "source": [
        "df1.head()"
      ],
      "metadata": {
        "colab": {
          "base_uri": "https://localhost:8080/",
          "height": 206
        },
        "id": "mG5IOveBItu7",
        "outputId": "42364abd-870d-449b-cdf2-5c0313bc334d"
      },
      "execution_count": 18,
      "outputs": [
        {
          "output_type": "execute_result",
          "data": {
            "text/plain": [
              "                                     cleaned_content\n",
              "0  plane good watch movit realli great love im go...\n",
              "1  account 5 user share dad alway use playstat da...\n",
              "2                  never go day without netflix ðÿ˜ž\n",
              "3  anoth stream servic im gonna pay anymor want p...\n",
              "4                cannot cast ad level plan worthless"
            ],
            "text/html": [
              "\n",
              "  <div id=\"df-1ff74ece-72f1-461f-b146-5f62f54327b6\" class=\"colab-df-container\">\n",
              "    <div>\n",
              "<style scoped>\n",
              "    .dataframe tbody tr th:only-of-type {\n",
              "        vertical-align: middle;\n",
              "    }\n",
              "\n",
              "    .dataframe tbody tr th {\n",
              "        vertical-align: top;\n",
              "    }\n",
              "\n",
              "    .dataframe thead th {\n",
              "        text-align: right;\n",
              "    }\n",
              "</style>\n",
              "<table border=\"1\" class=\"dataframe\">\n",
              "  <thead>\n",
              "    <tr style=\"text-align: right;\">\n",
              "      <th></th>\n",
              "      <th>cleaned_content</th>\n",
              "    </tr>\n",
              "  </thead>\n",
              "  <tbody>\n",
              "    <tr>\n",
              "      <th>0</th>\n",
              "      <td>plane good watch movit realli great love im go...</td>\n",
              "    </tr>\n",
              "    <tr>\n",
              "      <th>1</th>\n",
              "      <td>account 5 user share dad alway use playstat da...</td>\n",
              "    </tr>\n",
              "    <tr>\n",
              "      <th>2</th>\n",
              "      <td>never go day without netflix ðÿ˜ž</td>\n",
              "    </tr>\n",
              "    <tr>\n",
              "      <th>3</th>\n",
              "      <td>anoth stream servic im gonna pay anymor want p...</td>\n",
              "    </tr>\n",
              "    <tr>\n",
              "      <th>4</th>\n",
              "      <td>cannot cast ad level plan worthless</td>\n",
              "    </tr>\n",
              "  </tbody>\n",
              "</table>\n",
              "</div>\n",
              "    <div class=\"colab-df-buttons\">\n",
              "\n",
              "  <div class=\"colab-df-container\">\n",
              "    <button class=\"colab-df-convert\" onclick=\"convertToInteractive('df-1ff74ece-72f1-461f-b146-5f62f54327b6')\"\n",
              "            title=\"Convert this dataframe to an interactive table.\"\n",
              "            style=\"display:none;\">\n",
              "\n",
              "  <svg xmlns=\"http://www.w3.org/2000/svg\" height=\"24px\" viewBox=\"0 -960 960 960\">\n",
              "    <path d=\"M120-120v-720h720v720H120Zm60-500h600v-160H180v160Zm220 220h160v-160H400v160Zm0 220h160v-160H400v160ZM180-400h160v-160H180v160Zm440 0h160v-160H620v160ZM180-180h160v-160H180v160Zm440 0h160v-160H620v160Z\"/>\n",
              "  </svg>\n",
              "    </button>\n",
              "\n",
              "  <style>\n",
              "    .colab-df-container {\n",
              "      display:flex;\n",
              "      gap: 12px;\n",
              "    }\n",
              "\n",
              "    .colab-df-convert {\n",
              "      background-color: #E8F0FE;\n",
              "      border: none;\n",
              "      border-radius: 50%;\n",
              "      cursor: pointer;\n",
              "      display: none;\n",
              "      fill: #1967D2;\n",
              "      height: 32px;\n",
              "      padding: 0 0 0 0;\n",
              "      width: 32px;\n",
              "    }\n",
              "\n",
              "    .colab-df-convert:hover {\n",
              "      background-color: #E2EBFA;\n",
              "      box-shadow: 0px 1px 2px rgba(60, 64, 67, 0.3), 0px 1px 3px 1px rgba(60, 64, 67, 0.15);\n",
              "      fill: #174EA6;\n",
              "    }\n",
              "\n",
              "    .colab-df-buttons div {\n",
              "      margin-bottom: 4px;\n",
              "    }\n",
              "\n",
              "    [theme=dark] .colab-df-convert {\n",
              "      background-color: #3B4455;\n",
              "      fill: #D2E3FC;\n",
              "    }\n",
              "\n",
              "    [theme=dark] .colab-df-convert:hover {\n",
              "      background-color: #434B5C;\n",
              "      box-shadow: 0px 1px 3px 1px rgba(0, 0, 0, 0.15);\n",
              "      filter: drop-shadow(0px 1px 2px rgba(0, 0, 0, 0.3));\n",
              "      fill: #FFFFFF;\n",
              "    }\n",
              "  </style>\n",
              "\n",
              "    <script>\n",
              "      const buttonEl =\n",
              "        document.querySelector('#df-1ff74ece-72f1-461f-b146-5f62f54327b6 button.colab-df-convert');\n",
              "      buttonEl.style.display =\n",
              "        google.colab.kernel.accessAllowed ? 'block' : 'none';\n",
              "\n",
              "      async function convertToInteractive(key) {\n",
              "        const element = document.querySelector('#df-1ff74ece-72f1-461f-b146-5f62f54327b6');\n",
              "        const dataTable =\n",
              "          await google.colab.kernel.invokeFunction('convertToInteractive',\n",
              "                                                    [key], {});\n",
              "        if (!dataTable) return;\n",
              "\n",
              "        const docLinkHtml = 'Like what you see? Visit the ' +\n",
              "          '<a target=\"_blank\" href=https://colab.research.google.com/notebooks/data_table.ipynb>data table notebook</a>'\n",
              "          + ' to learn more about interactive tables.';\n",
              "        element.innerHTML = '';\n",
              "        dataTable['output_type'] = 'display_data';\n",
              "        await google.colab.output.renderOutput(dataTable, element);\n",
              "        const docLink = document.createElement('div');\n",
              "        docLink.innerHTML = docLinkHtml;\n",
              "        element.appendChild(docLink);\n",
              "      }\n",
              "    </script>\n",
              "  </div>\n",
              "\n",
              "\n",
              "<div id=\"df-1238f27b-e92d-4d6f-b88d-5926a6fadcd7\">\n",
              "  <button class=\"colab-df-quickchart\" onclick=\"quickchart('df-1238f27b-e92d-4d6f-b88d-5926a6fadcd7')\"\n",
              "            title=\"Suggest charts\"\n",
              "            style=\"display:none;\">\n",
              "\n",
              "<svg xmlns=\"http://www.w3.org/2000/svg\" height=\"24px\"viewBox=\"0 0 24 24\"\n",
              "     width=\"24px\">\n",
              "    <g>\n",
              "        <path d=\"M19 3H5c-1.1 0-2 .9-2 2v14c0 1.1.9 2 2 2h14c1.1 0 2-.9 2-2V5c0-1.1-.9-2-2-2zM9 17H7v-7h2v7zm4 0h-2V7h2v10zm4 0h-2v-4h2v4z\"/>\n",
              "    </g>\n",
              "</svg>\n",
              "  </button>\n",
              "\n",
              "<style>\n",
              "  .colab-df-quickchart {\n",
              "      --bg-color: #E8F0FE;\n",
              "      --fill-color: #1967D2;\n",
              "      --hover-bg-color: #E2EBFA;\n",
              "      --hover-fill-color: #174EA6;\n",
              "      --disabled-fill-color: #AAA;\n",
              "      --disabled-bg-color: #DDD;\n",
              "  }\n",
              "\n",
              "  [theme=dark] .colab-df-quickchart {\n",
              "      --bg-color: #3B4455;\n",
              "      --fill-color: #D2E3FC;\n",
              "      --hover-bg-color: #434B5C;\n",
              "      --hover-fill-color: #FFFFFF;\n",
              "      --disabled-bg-color: #3B4455;\n",
              "      --disabled-fill-color: #666;\n",
              "  }\n",
              "\n",
              "  .colab-df-quickchart {\n",
              "    background-color: var(--bg-color);\n",
              "    border: none;\n",
              "    border-radius: 50%;\n",
              "    cursor: pointer;\n",
              "    display: none;\n",
              "    fill: var(--fill-color);\n",
              "    height: 32px;\n",
              "    padding: 0;\n",
              "    width: 32px;\n",
              "  }\n",
              "\n",
              "  .colab-df-quickchart:hover {\n",
              "    background-color: var(--hover-bg-color);\n",
              "    box-shadow: 0 1px 2px rgba(60, 64, 67, 0.3), 0 1px 3px 1px rgba(60, 64, 67, 0.15);\n",
              "    fill: var(--button-hover-fill-color);\n",
              "  }\n",
              "\n",
              "  .colab-df-quickchart-complete:disabled,\n",
              "  .colab-df-quickchart-complete:disabled:hover {\n",
              "    background-color: var(--disabled-bg-color);\n",
              "    fill: var(--disabled-fill-color);\n",
              "    box-shadow: none;\n",
              "  }\n",
              "\n",
              "  .colab-df-spinner {\n",
              "    border: 2px solid var(--fill-color);\n",
              "    border-color: transparent;\n",
              "    border-bottom-color: var(--fill-color);\n",
              "    animation:\n",
              "      spin 1s steps(1) infinite;\n",
              "  }\n",
              "\n",
              "  @keyframes spin {\n",
              "    0% {\n",
              "      border-color: transparent;\n",
              "      border-bottom-color: var(--fill-color);\n",
              "      border-left-color: var(--fill-color);\n",
              "    }\n",
              "    20% {\n",
              "      border-color: transparent;\n",
              "      border-left-color: var(--fill-color);\n",
              "      border-top-color: var(--fill-color);\n",
              "    }\n",
              "    30% {\n",
              "      border-color: transparent;\n",
              "      border-left-color: var(--fill-color);\n",
              "      border-top-color: var(--fill-color);\n",
              "      border-right-color: var(--fill-color);\n",
              "    }\n",
              "    40% {\n",
              "      border-color: transparent;\n",
              "      border-right-color: var(--fill-color);\n",
              "      border-top-color: var(--fill-color);\n",
              "    }\n",
              "    60% {\n",
              "      border-color: transparent;\n",
              "      border-right-color: var(--fill-color);\n",
              "    }\n",
              "    80% {\n",
              "      border-color: transparent;\n",
              "      border-right-color: var(--fill-color);\n",
              "      border-bottom-color: var(--fill-color);\n",
              "    }\n",
              "    90% {\n",
              "      border-color: transparent;\n",
              "      border-bottom-color: var(--fill-color);\n",
              "    }\n",
              "  }\n",
              "</style>\n",
              "\n",
              "  <script>\n",
              "    async function quickchart(key) {\n",
              "      const quickchartButtonEl =\n",
              "        document.querySelector('#' + key + ' button');\n",
              "      quickchartButtonEl.disabled = true;  // To prevent multiple clicks.\n",
              "      quickchartButtonEl.classList.add('colab-df-spinner');\n",
              "      try {\n",
              "        const charts = await google.colab.kernel.invokeFunction(\n",
              "            'suggestCharts', [key], {});\n",
              "      } catch (error) {\n",
              "        console.error('Error during call to suggestCharts:', error);\n",
              "      }\n",
              "      quickchartButtonEl.classList.remove('colab-df-spinner');\n",
              "      quickchartButtonEl.classList.add('colab-df-quickchart-complete');\n",
              "    }\n",
              "    (() => {\n",
              "      let quickchartButtonEl =\n",
              "        document.querySelector('#df-1238f27b-e92d-4d6f-b88d-5926a6fadcd7 button');\n",
              "      quickchartButtonEl.style.display =\n",
              "        google.colab.kernel.accessAllowed ? 'block' : 'none';\n",
              "    })();\n",
              "  </script>\n",
              "</div>\n",
              "\n",
              "    </div>\n",
              "  </div>\n"
            ],
            "application/vnd.google.colaboratory.intrinsic+json": {
              "type": "dataframe",
              "variable_name": "df1"
            }
          },
          "metadata": {},
          "execution_count": 18
        }
      ]
    },
    {
      "cell_type": "code",
      "source": [
        "# Function to display topics\n",
        "def display_topics(model, feature_names, num_top_words):\n",
        "    for topic_idx, topic in enumerate(model.components_):\n",
        "        print(\"Topic %d:\" % (topic_idx))\n",
        "        print(\" \".join([feature_names[i] for i in topic.argsort()[:-num_top_words - 1:-1]]))"
      ],
      "metadata": {
        "id": "OEUvg2wGJD1V"
      },
      "execution_count": 19,
      "outputs": []
    },
    {
      "cell_type": "code",
      "source": [
        "# Function to identify major topics\n",
        "def identify_topics(df, num_topics=5, num_top_words=10):\n",
        "    # Vectorize the cleaned content using CountVectorizer\n",
        "    vectorizer = CountVectorizer(max_features=5000, stop_words='english')\n",
        "    X = vectorizer.fit_transform(df['cleaned_content'])\n",
        "\n",
        "    # Apply LDA\n",
        "    lda = LatentDirichletAllocation(n_components=num_topics, random_state=42)\n",
        "    lda.fit(X)\n",
        "\n",
        "    # Display topics\n",
        "    print(\"\\nIdentified Topics:\")\n",
        "    display_topics(lda, vectorizer.get_feature_names_out(), num_top_words)\n",
        "\n",
        "    # Assign topics to reviews\n",
        "    df['topic'] = np.argmax(lda.transform(X), axis=1)\n",
        "\n",
        "    return df, lda, vectorizer"
      ],
      "metadata": {
        "id": "Pvan4MZdJXmg"
      },
      "execution_count": 21,
      "outputs": []
    },
    {
      "cell_type": "code",
      "source": [
        "# Identify topics\n",
        "df_with_topics, lda_model, vectorizer = identify_topics(df1, num_topics=6, num_top_words=10)\n",
        "\n",
        "# Display the first few rows with topics\n",
        "print(df_with_topics.head())"
      ],
      "metadata": {
        "colab": {
          "base_uri": "https://localhost:8080/"
        },
        "id": "40qwbKF3JbpI",
        "outputId": "3eb880b5-9744-4ce1-dcc1-4ad76d5a80eb"
      },
      "execution_count": 22,
      "outputs": [
        {
          "output_type": "stream",
          "name": "stdout",
          "text": [
            "\n",
            "Identified Topics:\n",
            "Topic 0:\n",
            "app download good watch netflix use great realli dont love\n",
            "Topic 1:\n",
            "app work netflix updat phone play screen fix video tri\n",
            "Topic 2:\n",
            "ðÿ netflix app account payment tri devic use sign say\n",
            "Topic 3:\n",
            "movi netflix watch love app like good seri great best\n",
            "Topic 4:\n",
            "netflix pay use servic cancel content stream price subscript im\n",
            "Topic 5:\n",
            "watch episod season pleas netflix like app fix im list\n",
            "                                     cleaned_content  topic\n",
            "0  plane good watch movit realli great love im go...      0\n",
            "1  account 5 user share dad alway use playstat da...      4\n",
            "2                  never go day without netflix ðÿ˜ž      2\n",
            "3  anoth stream servic im gonna pay anymor want p...      4\n",
            "4                cannot cast ad level plan worthless      4\n"
          ]
        }
      ]
    },
    {
      "cell_type": "markdown",
      "source": [
        "Validation and User Interaction"
      ],
      "metadata": {
        "id": "jJKrB6RXJ_6c"
      }
    },
    {
      "cell_type": "code",
      "source": [
        "# Function to validate topics\n",
        "def validate_topics(df):\n",
        "    print(\"\\nValidation of Topics:\")\n",
        "    topic_counts = df['topic'].value_counts()\n",
        "    print(topic_counts)"
      ],
      "metadata": {
        "id": "L1xB0-D0KBAI"
      },
      "execution_count": 23,
      "outputs": []
    },
    {
      "cell_type": "code",
      "source": [
        "# Function to allow user to accept or reject topics\n",
        "def accept_reject_topics(df, lda_model, vectorizer, accepted_topics):\n",
        "    # Filter out rejected topics\n",
        "    df_filtered = df[df['topic'].isin(accepted_topics)]\n",
        "\n",
        "    # Rerun LDA on the filtered data\n",
        "    X_filtered = vectorizer.transform(df_filtered['cleaned_content'])\n",
        "    lda_model_filtered = LatentDirichletAllocation(n_components=len(accepted_topics), random_state=42)\n",
        "    lda_model_filtered.fit(X_filtered)\n",
        "\n",
        "    # Display topics\n",
        "    print(\"\\nFiltered Topics:\")\n",
        "    display_topics(lda_model_filtered, vectorizer.get_feature_names_out(), 10)\n",
        "\n",
        "    # Assign topics to reviews\n",
        "    df_filtered['topic'] = np.argmax(lda_model_filtered.transform(X_filtered), axis=1)\n",
        "\n",
        "    return df_filtered, lda_model_filtered"
      ],
      "metadata": {
        "id": "Cb_4FDL5KBDu"
      },
      "execution_count": 24,
      "outputs": []
    },
    {
      "cell_type": "code",
      "source": [
        "# Validate initial topics\n",
        "validate_topics(df_with_topics)"
      ],
      "metadata": {
        "colab": {
          "base_uri": "https://localhost:8080/"
        },
        "id": "5bNsnKBAKO0U",
        "outputId": "c2e9a683-cd7a-401a-a464-e43cd73338e7"
      },
      "execution_count": 25,
      "outputs": [
        {
          "output_type": "stream",
          "name": "stdout",
          "text": [
            "\n",
            "Validation of Topics:\n",
            "topic\n",
            "3    28878\n",
            "1    25162\n",
            "4    17823\n",
            "0    14838\n",
            "2    12695\n",
            "5    10333\n",
            "Name: count, dtype: int64\n"
          ]
        }
      ]
    },
    {
      "cell_type": "code",
      "source": [
        "# Assume user accepts topics 0 and 1 for simplicity\n",
        "accepted_topics = [0, 1]"
      ],
      "metadata": {
        "id": "0lbp9N8EKO3_"
      },
      "execution_count": 26,
      "outputs": []
    },
    {
      "cell_type": "code",
      "source": [
        "# Re-run LDA with accepted topics\n",
        "df_filtered_topics, lda_filtered_model = accept_reject_topics(df_with_topics, lda_model, vectorizer, accepted_topics)"
      ],
      "metadata": {
        "colab": {
          "base_uri": "https://localhost:8080/"
        },
        "id": "33ciA-OKKO7P",
        "outputId": "982f7d0a-948a-4012-c608-9a4d8c98f30c"
      },
      "execution_count": 27,
      "outputs": [
        {
          "output_type": "stream",
          "name": "stdout",
          "text": [
            "\n",
            "Filtered Topics:\n",
            "Topic 0:\n",
            "app watch download good netflix movi use great love like\n",
            "Topic 1:\n",
            "app work netflix updat phone fix play screen open video\n"
          ]
        },
        {
          "output_type": "stream",
          "name": "stderr",
          "text": [
            "<ipython-input-24-6d624111a893>:16: SettingWithCopyWarning: \n",
            "A value is trying to be set on a copy of a slice from a DataFrame.\n",
            "Try using .loc[row_indexer,col_indexer] = value instead\n",
            "\n",
            "See the caveats in the documentation: https://pandas.pydata.org/pandas-docs/stable/user_guide/indexing.html#returning-a-view-versus-a-copy\n",
            "  df_filtered['topic'] = np.argmax(lda_model_filtered.transform(X_filtered), axis=1)\n"
          ]
        }
      ]
    },
    {
      "cell_type": "code",
      "source": [
        "# Display the first few rows with filtered topics\n",
        "print(df_filtered_topics.head())"
      ],
      "metadata": {
        "colab": {
          "base_uri": "https://localhost:8080/"
        },
        "id": "1oVQsjqDKVKL",
        "outputId": "a14365dd-6fcd-4221-d273-f85ef20b66be"
      },
      "execution_count": 28,
      "outputs": [
        {
          "output_type": "stream",
          "name": "stdout",
          "text": [
            "                                      cleaned_content  topic\n",
            "0   plane good watch movit realli great love im go...      0\n",
            "6                                               youä      0\n",
            "7   bad cooper servic abl find solut video gone black      1\n",
            "8   latest updat complet ruin app especi android m...      1\n",
            "11                          video freez audio continu      1\n"
          ]
        }
      ]
    },
    {
      "cell_type": "markdown",
      "source": [
        "Hierarchical Presentation"
      ],
      "metadata": {
        "id": "jkMy3Re9KdlF"
      }
    },
    {
      "cell_type": "code",
      "source": [
        "# Function to present topics hierarchically\n",
        "def hierarchical_topics(lda_model, vectorizer, df, num_top_words=10):\n",
        "    topic_dict = {}\n",
        "    for topic_idx, topic in enumerate(lda_model.components_):\n",
        "        topic_words = [vectorizer.get_feature_names_out()[i] for i in topic.argsort()[:-num_top_words - 1:-1]]\n",
        "        topic_dict[f\"Topic {topic_idx}\"] = topic_words\n",
        "\n",
        "    # Display hierarchy\n",
        "    print(\"\\nHierarchical Presentation of Topics:\")\n",
        "    for topic, words in topic_dict.items():\n",
        "        print(f\"{topic}:\")\n",
        "        for word in words:\n",
        "            print(f\"  - {word}\")\n",
        "\n",
        "    return topic_dict"
      ],
      "metadata": {
        "id": "KCZJO67tKeai"
      },
      "execution_count": 29,
      "outputs": []
    },
    {
      "cell_type": "code",
      "source": [
        "# Present topics hierarchically\n",
        "hierarchical_topic_dict = hierarchical_topics(lda_filtered_model, vectorizer, df_filtered_topics)"
      ],
      "metadata": {
        "colab": {
          "base_uri": "https://localhost:8080/"
        },
        "id": "BeUoYyWrKed9",
        "outputId": "25dd07a1-fad9-4205-f815-3c5ae055e0eb"
      },
      "execution_count": 30,
      "outputs": [
        {
          "output_type": "stream",
          "name": "stdout",
          "text": [
            "\n",
            "Hierarchical Presentation of Topics:\n",
            "Topic 0:\n",
            "  - app\n",
            "  - watch\n",
            "  - download\n",
            "  - good\n",
            "  - netflix\n",
            "  - movi\n",
            "  - use\n",
            "  - great\n",
            "  - love\n",
            "  - like\n",
            "Topic 1:\n",
            "  - app\n",
            "  - work\n",
            "  - netflix\n",
            "  - updat\n",
            "  - phone\n",
            "  - fix\n",
            "  - play\n",
            "  - screen\n",
            "  - open\n",
            "  - video\n"
          ]
        }
      ]
    },
    {
      "cell_type": "code",
      "source": [
        "# Print hierarchical topics\n",
        "print(hierarchical_topic_dict)"
      ],
      "metadata": {
        "colab": {
          "base_uri": "https://localhost:8080/"
        },
        "id": "ipPSaLbpKegz",
        "outputId": "ca64cf77-838b-4703-fa16-c1f06bb3b334"
      },
      "execution_count": 31,
      "outputs": [
        {
          "output_type": "stream",
          "name": "stdout",
          "text": [
            "{'Topic 0': ['app', 'watch', 'download', 'good', 'netflix', 'movi', 'use', 'great', 'love', 'like'], 'Topic 1': ['app', 'work', 'netflix', 'updat', 'phone', 'fix', 'play', 'screen', 'open', 'video']}\n"
          ]
        }
      ]
    },
    {
      "cell_type": "code",
      "source": [],
      "metadata": {
        "id": "aG7E8IzRKekP"
      },
      "execution_count": null,
      "outputs": []
    }
  ]
}